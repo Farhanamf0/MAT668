{
  "nbformat": 4,
  "nbformat_minor": 0,
  "metadata": {
    "colab": {
      "provenance": [],
      "include_colab_link": true
    },
    "kernelspec": {
      "name": "python3",
      "display_name": "Python 3"
    },
    "language_info": {
      "name": "python"
    }
  },
  "cells": [
    {
      "cell_type": "markdown",
      "metadata": {
        "id": "view-in-github",
        "colab_type": "text"
      },
      "source": [
        "<a href=\"https://colab.research.google.com/github/Farhanamf0/MAT668/blob/main/MAT668%20CS2496B%20GROUP%20B%20PYTHON%20LAB%20ASSIGN.%20MAR-AUG2025.ipynb\" target=\"_parent\"><img src=\"https://colab.research.google.com/assets/colab-badge.svg\" alt=\"Open In Colab\"/></a>"
      ]
    },
    {
      "cell_type": "code",
      "execution_count": null,
      "metadata": {
        "id": "FXJRG3NYSUKF"
      },
      "outputs": [],
      "source": [
        "#GRAPH THEORY WITH APPLICATIONS (MAT668)\n",
        "#PYTHON LAB ASSIGNMENT - CDCS2496B\n",
        "#SEMESTER: MARCH - AUGUST 2025\n",
        "#COLLEGE OF COMPUTING, INFORMATICS AND MATHEMATICS (KPPIM)\n",
        "#UNIVERSITI TEKNOLGI MARA (UiTM), SHAH ALAM, SELANGOR, MALAYSIA\n",
        "#LECTURER:  ASSOC. PROF. TS DR ADIBAH SHUIB"
      ]
    },
    {
      "cell_type": "markdown",
      "source": [
        "# PYTHON LAB ASSIGNMENT\n"
      ],
      "metadata": {
        "id": "SYRBJJEUgfew"
      }
    },
    {
      "cell_type": "markdown",
      "source": [],
      "metadata": {
        "id": "FoA1q6KHTqVl"
      }
    },
    {
      "cell_type": "markdown",
      "source": [
        "Read each question carefully. Answer **ALL** questions. \\\n",
        "Proceed to Question 1 to start answering the questions in this MAT668 Python Lab Assignment."
      ],
      "metadata": {
        "id": "Qv5gvWKiGLFJ"
      }
    },
    {
      "cell_type": "markdown",
      "source": [
        "###QUESTION 1 (6 marks)\n",
        "i.  Assign your full name (Firstname Lastname) to a variable called \"Name\". \\\n",
        "ii. Assign your student ID to a variable called \"SID\". \\\n",
        "iii.Assign your group (CS2496A or CS2496B) to a variable called \"Group\". \\\n",
        "iv. Assign March-August 2025 to a variable called “Semester” \\\n",
        "v.  Assign today's date to a variable called \"Date\". \\\n",
        "vi. Assign today's day to a variable called \"Day\". \\\n",
        "Print each of these information in separate rows.\\\n",
        "• [HINT1: >> x = \"John\"; y = 6789; z = \"A\"] #Change to your information \\\n",
        "• [HINT2: To get current Date, refer to: https://www.programiz.com/\n",
        "python-programming/datetime/current-datetime >> from datetime import date >> Date = date.today();] >> **Do not type the date yourself**! \\\n",
        "• [HINT3: For what day is today, refer to 'the name of weekday' in >> https://www.w3schools.com/python/python_datetime.asp] >> **Do not type the day yourself!** \\\n",
        "\n",
        "**Expected Output**: \\\n",
        "  Name: Firstname Lastname \\\n",
        "  SID: 2021XXXXXX \\\n",
        "  Semester: March-August 2025 \\\n",
        "  Class Group: CS2496X \\\n",
        "  Date: 202X-XX-XX \\\n",
        "  Day: Today?"
      ],
      "metadata": {
        "id": "C2Q1JU29jMlB"
      }
    },
    {
      "cell_type": "code",
      "source": [
        "from datetime import date\n",
        "\n",
        "Name = \"NURFARHANA BINTI MOHAMMAD FADZIL\"\n",
        "SID = \"2023149431\"\n",
        "Group = \"CDCS2496B\"\n",
        "Semester = \"March-August 2025\"\n",
        "Date = \"2025-04-28\"\n",
        "Day = \"MONDAY\"\n",
        "\n",
        "print(Name)\n",
        "print(SID)\n",
        "print(Semester)\n",
        "print(Group)\n",
        "print(Date)\n",
        "print(Day)"
      ],
      "metadata": {
        "id": "hiJKEpkDBZEw",
        "outputId": "8dc3399c-cf45-4c0b-d7fc-5f564b841a55",
        "colab": {
          "base_uri": "https://localhost:8080/"
        }
      },
      "execution_count": 1,
      "outputs": [
        {
          "output_type": "stream",
          "name": "stdout",
          "text": [
            "NURFARHANA BINTI MOHAMMAD FADZIL\n",
            "2023149431\n",
            "March-August 2025\n",
            "CDCS2496B\n",
            "2025-04-28\n",
            "MONDAY\n"
          ]
        }
      ]
    },
    {
      "cell_type": "markdown",
      "source": [
        "###QUESTION 2 (6 marks)\n",
        "i.  Create a list called ** EUROPEAN** consisting of** 7 countries in Europe.** \\\n",
        "ii. **Print** this EUROPEAN list. \\\n",
        "iii.**Print the last country** in EUROPEAN list using range of negative indexes where the end of the list has index -1.  \\\n",
        "iv.  **Print the fifth country from the last to second last country** (the last country is not included) in EUROPEAN list using range of negative indexes where the end of the list has index -1.\n",
        "    [HINT: Refer to example in https://www.w3schools.com/python/python_lists_access.asp]\\\n",
        "v.  Assign a variable ** ASEAN_DEF** as a string shown below. \\\n",
        "     EURO_DEF = \"European countries which use Euro currency\" \\\n",
        "     P**rint EURO_DEF** >> [HINT: print(\"EURO is the acronym for:\", EURO_DEF)] \\\n",
        "vi.  Check if the phrase currency is present in the EURO_DEF text string. If currency is present, the output should be “True”. [HINT: Refer example in “Check String” in page “Python Strings” https://www.w3schools.com/python/python_strings.asp]."
      ],
      "metadata": {
        "id": "eT5QXrmisfqW"
      }
    },
    {
      "cell_type": "code",
      "source": [
        "\n"
      ],
      "metadata": {
        "id": "SKgwfRnCIXVQ"
      },
      "execution_count": null,
      "outputs": []
    },
    {
      "cell_type": "markdown",
      "source": [
        "###QUESTION 3 (6 marks)\n",
        "Create four (4) tuples as follows:\\\n",
        "tuple1 which contains the letters, \"M\", \"A\", and \"T\".\\\n",
        "tuple2 which contains the numbers 6, 6, and 8.\\\n",
        "tuple3 which contains the string \"MAT668_\".\\\n",
        "tuple4 which contains the string \"CS249\".\\\n",
        "Create tuple5 by joining the tuple 1 and tuple 2.\\\n",
        "Create tuple6 by joining the tuple 3 and tuple 4.\\\n",
        "Print tuple1, tuple2, tuple3, tuple4, tuple 5, and tuple 6 in different lines.\n",
        "[HINT1: Refer to 3. Python Tutorial (Join Tuple under Tuple section) at https://www.w3schools.com/python/]."
      ],
      "metadata": {
        "id": "oq0YGI66xvjd"
      }
    },
    {
      "cell_type": "code",
      "source": [],
      "metadata": {
        "id": "Lf_AwnXDx2eR"
      },
      "execution_count": null,
      "outputs": []
    },
    {
      "cell_type": "markdown",
      "source": [
        "###QUESTION 4 (4 marks)\n",
        "Use the following Python coding to print the list of numbers starting from 2 to 33, and with an increment of 3 [a = starting number, b = ending number, c = 3]. \\\n",
        "Determine the length of the list and find the sum of the numbers in the list. \\\n",
        "Then, determine whether each number is even or odd. \\\n",
        "\n",
        "HINT:\n",
        "1. You just need to copy the following program and replace a, b and c with appropriate values. Take out the \" \\ \" (if any) in the coding below.\n",
        "2. Do not forget to indent when dealing with loop.\n",
        "3. Refer to the example under the topic, 4.4. Break and Continue Statements in Python Lab Note 5. The Python Tutorial (More Control Flow Tools): https://docs.python.org/3/tutorial/controlflow.html#for-statements.\t\\\n",
        "\n",
        "**Python Coding:** \\\n",
        "for x in range(a, b, c): \\\n",
        "  print(x)    #**Indent once** \\\n",
        "print(list(range(a, b, c))) \\\n",
        "print(len(list(range(a, b, c)))) \\\n",
        "print(\"the sum of numbers:\", sum(list(range(a, b, c)))) \\\n",
        "for num in range(a, b, c): \\\n",
        "    if num % 2 == 0:                    #**Indent once**. \\\n",
        "        print(\"Found an even number\", num)    #**Indent twice**  \\\n",
        "        continue                              #**Indent twice** \\\n",
        "    print(\"Found an odd number\", num)   #**Indent once**  "
      ],
      "metadata": {
        "id": "ctztUAJH8u55"
      }
    },
    {
      "cell_type": "code",
      "source": [],
      "metadata": {
        "id": "bdc1-8wOR3FW"
      },
      "execution_count": null,
      "outputs": []
    },
    {
      "cell_type": "markdown",
      "source": [
        "###QUESTION 5 (4 marks)\n",
        "Using the dict() method to make a dictionary by adopting and adapting the following coding. Note: Take out the \" \\ \" (if any) in the coding below.\n",
        "\n",
        "thisdict = dict(Student_Name = \"Type name\", Age = ?, Program = “CDCS2496B”, Faculty = \"FSKM”, University = “UiTM\", Year = 2025) \\\n",
        "print(thisdict) \\\n",
        "print(type(thisdict)) \\\n",
        "print(len(thisdict))"
      ],
      "metadata": {
        "id": "EACpAVIlW4bv"
      }
    },
    {
      "cell_type": "code",
      "source": [],
      "metadata": {
        "id": "kE57fTxbheRl"
      },
      "execution_count": null,
      "outputs": []
    },
    {
      "cell_type": "markdown",
      "source": [
        "###QUESTION 6 (6 marks)\n",
        "i.  Define a list called **Nodes** of 10 nodes (0, 1, ..., 9) using \"range\" function.\n",
        "[Reference: https://www.programiz.com/python-programming/methods/built-in/range ]. \\\n",
        "\n",
        "ii. **Print** the list of nodes using \"print\" function. Example: print(\"Nodes:\",list(Nodes)) \\\n",
        "\n",
        "iii.  Define a list called **SID** using your student ID (SID) defined earlier and **print this SID**. [Reference: https://www.w3schools.com/python/python_lists.asp - for list] \\\n",
        "\n",
        "iv, Define a new list called **NEW_SI**D by changing the last digit in your current SID to be the digit ‘3’. **Print NEW_SID**.\\\n",
        "Example:\\\n",
        "SID: 2022123456 \\\n",
        "NEW_SID: 2022123452\n"
      ],
      "metadata": {
        "id": "gMlWqzA2hkJn"
      }
    },
    {
      "cell_type": "code",
      "source": [],
      "metadata": {
        "id": "mH8zoUsEhpBl"
      },
      "execution_count": null,
      "outputs": []
    },
    {
      "cell_type": "markdown",
      "source": [
        "###QUESTION 7 (4 marks)\n",
        "i.\tUse **zip** function to create a sequence of **tuple** involving **Nodes** list and **NEW_SID** list and called it **G_Edges**. \". [HINT: G_Edges = zip(LIST_A, LIST_B)]. Print the list of G_Edges using the \"print\" function, e.g., **print(\"G_Edges: \",list(G_Edges))**.\n",
        "\n",
        "Each tuple defines an edge between two nodes from the list nodes and the modified list NEW_SID as (Nodes[i], NEW_SID[i]]). The \"list\" function converts the \"G_edges\" sequence into a list. [Reference: https://www.programiz.com/python-programming/methods/built-in/zip].\n",
        "\n",
        "**Example** (Expected Output): \\\n",
        "If nodes = [0, 1, 2, 3, 4, 5, 6, 7, 8, 9] and NEW_SID = [2, 0, 2, 2, 1, 2, 3, 4, 5, 8], then, G_Edges = [(0, 2), (1, 0), (2, 2), (3, 2), (4, 1), (5, 2), (6, 3), (7, 4), (8, 5), (9, 8)].\n",
        "\n",
        "ii.\t**Import networkx module as nx**. [Reference: https://networkx.org/documentation/stable/tutorial.html to import] \\\n",
        "After you import network module, create an empty graph G with no nodes and no edges. i.e., let G = nx.Graph(). Then, **print(\"G is:\", G)**.\n",
        "\n"
      ],
      "metadata": {
        "id": "BAHsG60Vhti_"
      }
    },
    {
      "cell_type": "code",
      "source": [],
      "metadata": {
        "id": "ox_5ZEkqhv2j"
      },
      "execution_count": null,
      "outputs": []
    },
    {
      "cell_type": "markdown",
      "source": [
        "###QUESTION 8 (5 marks)\n",
        "i.\tAdd \"G_Edges\" to G using the function: \"G.add_edges_from\"  \n",
        "[Reference: https://networkx.org/documentation/stable/tutorial.html ].\n",
        "Then, enter the print command to get number of edges, **print(G.number_of_edges())**\n",
        "\n",
        "ii.\t**Print all edges of G** using \"print\" function. [Hint: print(G.?????)].\n",
        "[Reference: https://networkx.guide/basics/ . Note that based on this reference, there are four basic graph properties facilitate reporting: G.nodes, G.edges, G.adj and G.degree. You can print these lists. For example, **print(G.edges)**."
      ],
      "metadata": {
        "id": "-5wbowTihwRt"
      }
    },
    {
      "cell_type": "code",
      "source": [],
      "metadata": {
        "id": "3iBgKsaRhzoH"
      },
      "execution_count": null,
      "outputs": []
    },
    {
      "cell_type": "markdown",
      "source": [
        "###QUESTION 9 (4 marks)\n",
        "i.\tAdd nodes to G to G using the function: “G.add_nodes_from” . Print all nodes of G.\n",
        "[Reference: https://networkx.guide/basics/ . Note that based on this reference, there are four basic graph properties facilitate reporting: G.nodes, G.edges, G.adj and G.degree. Then, print(G.nodes).\n",
        "\n",
        "ii.\tPrint the number of nodes using \"number_of_nodes\" functon and \"print\" function. [HINT: G.number_of_nodes()].\n",
        "Reference: https://networkx.org/documentation/stable/tutorial.html"
      ],
      "metadata": {
        "id": "yOKp6y83h0BG"
      }
    },
    {
      "cell_type": "code",
      "source": [],
      "metadata": {
        "id": "JvQwfm7Lh2Fq"
      },
      "execution_count": null,
      "outputs": []
    },
    {
      "cell_type": "markdown",
      "source": [
        "###QUESTION 10 (4 marks)\n",
        "**Find the degree of nodes 2, 4, 7 and 9.** Print the output. \\\n",
        "Note: To check degrees of a set of nodes, that is, with how many edges those nodes are incident with, use G.degree() function. \\\n",
        "**For example, to check the degree of node 0 and node 8, use the command >> G.degree([0, 8]).** [Reference: https://networkx.guide/basics/]"
      ],
      "metadata": {
        "id": "aptkMoW3h2iU"
      }
    },
    {
      "cell_type": "code",
      "source": [],
      "metadata": {
        "id": "7fg-CkRmh5V9"
      },
      "execution_count": null,
      "outputs": []
    },
    {
      "cell_type": "markdown",
      "source": [
        "###QUESTION 11 (4 marks)\n",
        "i.\tDetermine the list of nodes adjacent to node 2 (neighbours of node 2) using \"neighbors\" function. \\\n",
        "ii.\tDetermine the list list of nodes adjacent to node 4 (neighbours of node 4) using \"neighbors\" function. \\\n",
        "For example, list(G.neighbors(9)) produces all neighboring nodes to node 9. \\\n",
        "\n",
        "iii.\tPrint the list of neighbors - use the “print” command to print the list of neighbors. [Reference: https://github.com/CambridgeUniversityPress/FirstCourseNetworkScience/blob/master/tutorials/Chapter%201%20Tutorial.ipynb ].\n"
      ],
      "metadata": {
        "id": "QzklGnbliD1c"
      }
    },
    {
      "cell_type": "code",
      "source": [],
      "metadata": {
        "id": "jeuAf9_tiHKR"
      },
      "execution_count": null,
      "outputs": []
    },
    {
      "cell_type": "markdown",
      "source": [
        "###QUESTION 12 (6 marks)\n",
        "Print all the nodes and a list of their respective neighbours side by side using \"for loop\", \"nodes\" function, \"neighbors\" function and \"print\" function. Note that you need to print i along with the list(G.neighbors(i)) for all i in the range.\n",
        "Example:\\\n",
        "0 [1, 2, 7] \\\n",
        "1 [0, 9, 2] \\\n",
        "2 [0, 1, 4] \\\n",
        "3 [8, 5] \\\n",
        "4 [2, 6] \\\n",
        "5 [3] \\\n",
        "6 [4] \\\n",
        "7 [0] \\\n",
        "8 [3] \\\n",
        "9 [1] \\\n",
        "[References: https://docs.python.org/3/tutorial/controlflow.html #for-statements;\n",
        "https://networkx.github.io/documentation/stable/tutorial.html#edges]"
      ],
      "metadata": {
        "id": "kYMPdlFpiHrz"
      }
    },
    {
      "cell_type": "code",
      "source": [],
      "metadata": {
        "id": "VAPvJkSYiK51"
      },
      "execution_count": null,
      "outputs": []
    },
    {
      "cell_type": "markdown",
      "source": [
        "###QUESTION 13 (3 marks)\n",
        "Based on the output of Q12, define a list called **Odd_Degree_Nodes** to list all nodes with odd degree. For example, Odd_Degree_Nodes = [2, 6, 7, 9].  Type all the odd degree nodes in the bracket [ ].\n",
        "[Reference: https://www.w3schools.com/python/python_lists.asp to recall how to define list] \\\n",
        "\n",
        "Print the list, Odd_Degree_Nodes."
      ],
      "metadata": {
        "id": "UjLwWhdpiLX9"
      }
    },
    {
      "cell_type": "code",
      "source": [],
      "metadata": {
        "id": "CZVOwkWriPxn"
      },
      "execution_count": null,
      "outputs": []
    },
    {
      "cell_type": "markdown",
      "source": [
        "###QUESTION 14 (6 marks)\n",
        "Print all the nodes and their respective degree side by side using \"for loop\", \"nodes\" function, \"degree\" function and \"print\" function.\n",
        "\n",
        "Example: \\\n",
        "0 3 \\\n",
        "1 3 \\\n",
        "2 3 \\\n",
        "3 2 \\\n",
        "4 2 \\\n",
        "5 1 \\\n",
        "6 1 \\\n",
        "7 1 \\\n",
        "8 1 \\\n",
        "9 1 \\\n",
        "[References: https://docs.python.org/3/tutorial/controlflow.html#for-statements HINT: use the command \"for i in range(len(G)):\" and you need to print the node i along with the degree of node i, which is G.degree(i)"
      ],
      "metadata": {
        "id": "CFhrD1dIiQS8"
      }
    },
    {
      "cell_type": "code",
      "source": [],
      "metadata": {
        "id": "ajp-_a3siSIj"
      },
      "execution_count": null,
      "outputs": []
    },
    {
      "cell_type": "markdown",
      "source": [
        "###QUESTION 15 (4 marks)\n",
        "i.\t Determine the degree sequence. **Create a degree sequence in descending order** using \"G.degree().values()\" function and \"list\" function and assign it to variable called \"degree_sequence\".\n",
        "\"G.degree()\" is of type dict. \"G.degree().keys()\" will return all the nodes. Meanwhile, \"G.degree().values()\" will return all the degrees. Degree sequence usually refers to a non-increasing sequence of the vertex degrees of the graph vertices. In this case,\n",
        ">> degree_sequence = sorted(list(dict(G.degree()).values()), reverse=True)\n",
        "\n",
        "ii.\t**Print degree_sequence** using \"print\" function. Example: [3, 3, 3, 2, 2, 1, 1, 1, 1, 1]\n",
        "References: \\\n",
        "https://docs.python.org/3/tutorial/introduction.html#lists \\\n",
        "https://docs.python.org/3/tutorial/datastructures.html#dictionaries"
      ],
      "metadata": {
        "id": "Z6j9dwGyiTaE"
      }
    },
    {
      "cell_type": "code",
      "source": [],
      "metadata": {
        "id": "1GSNactwiVqO"
      },
      "execution_count": null,
      "outputs": []
    },
    {
      "cell_type": "markdown",
      "source": [
        "###QUESTION 16 (4 marks)\n",
        "Find the maximum vertex degree (Δ) by applying \"max\" function to the list \"degree_sequence\" and assign it to variable \"max_degree\".\n",
        "\n",
        "Print variable \"max_degree\" using \"print\" function.\n",
        "\n",
        "In this case, print(\"Max degree of the degree sequence: \", max_degree) [Reference: https://www.tutorialspoint.com/python/list_max.htm ]\n"
      ],
      "metadata": {
        "id": "WTodyFZhiWC3"
      }
    },
    {
      "cell_type": "code",
      "source": [],
      "metadata": {
        "id": "C4mzhNihiYKr"
      },
      "execution_count": null,
      "outputs": []
    },
    {
      "cell_type": "markdown",
      "source": [
        "###QUESTION 17 (3 marks)\n",
        "Find the minimum vertex degree (δ) by applying \"min\" function to the list \"degree_sequence\" and assign it to variable \"min_degree\".\n",
        "\n",
        "Print variable \"min_degree\" using \"print\" function, i.e., print(\"Min degree of the degree sequence: \" min_degree)\n",
        "[Reference: https://www.tutorialspoint.com/python/list_min.htm ]"
      ],
      "metadata": {
        "id": "wvQzfOXziZI9"
      }
    },
    {
      "cell_type": "code",
      "source": [],
      "metadata": {
        "id": "6TsDXkfXib-k"
      },
      "execution_count": null,
      "outputs": []
    },
    {
      "cell_type": "markdown",
      "source": [
        "###QUESTION 18 (3 marks)\n",
        "Calculate the sum of degree of all nodes.\n",
        "\n",
        "Use \"sum\" function to calculate the sum of all degree, and assign it to a variable called \"sum_degree\".\n",
        "\n",
        "Print \"sum_degree\" using \"print\" function.\n",
        "Example of Output: Sum of degree of all nodes = 18."
      ],
      "metadata": {
        "id": "CXnkANrgicVX"
      }
    },
    {
      "cell_type": "code",
      "source": [],
      "metadata": {
        "id": "6WlitD3hiezs"
      },
      "execution_count": null,
      "outputs": []
    },
    {
      "cell_type": "markdown",
      "source": [
        "###QUESTION 19 (3 marks)\n",
        "Calculate the value of 2 times the total number of edges using \"number_of_edges\" function (NetworkX Tutorial pg. 3), and assign it to a variable called \"edges_times2\".\n",
        "\n",
        "Note that the number of edges can be found using >> G.number_of_edges(). Print \"edges_times2\" using \"pr[link text](https://)int\" function.\n",
        "Example: edges_times2 = 2 x number_of_edges = 18.\n",
        "\n",
        "[References: https://networkx.github.io/documentation/stable/tutorial.html#edges ]\n"
      ],
      "metadata": {
        "id": "8B0WDUJwiiF1"
      }
    },
    {
      "cell_type": "code",
      "source": [],
      "metadata": {
        "id": "nchjHkiUijJk"
      },
      "execution_count": null,
      "outputs": []
    },
    {
      "cell_type": "markdown",
      "source": [
        "###QUESTION 20 (4 marks)\n",
        "Verify Handshaking Lemma (The degree sum formula). Use \"If\" function. ∑v∈Vdeg(v)=2|E|. Print the conclusion using \"print\" function.\n",
        "\n",
        "[ Hint: Is sum_degree = edges times 2? If yes, print \"Handshaking Theorem Lemma is verified\". Else: print(\"Handshaking Theorem Lemma is not verified\") ]"
      ],
      "metadata": {
        "id": "W_6i3Ncqik4s"
      }
    },
    {
      "cell_type": "code",
      "source": [],
      "metadata": {
        "id": "jK2A7oFRioA6"
      },
      "execution_count": null,
      "outputs": []
    },
    {
      "cell_type": "markdown",
      "source": [
        "###QUESTION 21 (5 marks)\n",
        "Draw the graph G using \"draw\" function. Add \"with_labels=True\" argument to \"draw\" function to display the node's label.\n",
        "\n",
        "[Reference: https://networkx.org/documentation/stable/tutorial.html ]"
      ],
      "metadata": {
        "id": "dNPkP1xHiolV"
      }
    },
    {
      "cell_type": "code",
      "source": [],
      "metadata": {
        "id": "7EuKfVT7J338"
      },
      "execution_count": null,
      "outputs": []
    },
    {
      "cell_type": "markdown",
      "source": [
        "###**HONOUR PLEDGE**\n",
        "Complete the Honour Pledge by writing the following Honour Pledge Istatement and sign with your name and state your Student ID.\n",
        "The **Output** should be as the following:   \n",
        "\n",
        "**Honour Pledge**: #Just complete the given coding\n",
        "\n",
        "I pledge on my honour that I have not given or received any unauthorized assistance on this MAT668 Python Lab Assignment\n",
        "and that all works done and answers given are my own.Any misconduct can be penalized.\n",
        "\n",
        "Signature: Firstname Lastname \\\n",
        "Student ID: 202XXXXXXX\n"
      ],
      "metadata": {
        "id": "V4THM0N63tlC"
      }
    },
    {
      "cell_type": "code",
      "source": [
        "H_Pledge_Line1 = \"I pledge on my honour that I have not given or received any unauthorized assistance on this MAT668 Python Lab Assignment\"\n",
        "H_Pledge_Line2 = \"and that all works done and answers given are my own.Any misconduct can be penalized.\"\n",
        "\n",
        "print(\"Honour Pledge:\")\n",
        "print(H_Pledge_Line1)\n",
        "print(H_Pledge_Line2, end=\"\\n\\n\")\n",
        "\n",
        "Name = \"Firstname Father's name\"\n",
        "print(\"Signature:\", Name)\n",
        "ID = 202XXXXXXX\n",
        "print(\"Student ID:\", ID)"
      ],
      "metadata": {
        "id": "a5r2EUUQ3227"
      },
      "execution_count": null,
      "outputs": []
    }
  ]
}