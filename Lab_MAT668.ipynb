{
  "nbformat": 4,
  "nbformat_minor": 0,
  "metadata": {
    "kernelspec": {
      "display_name": "Python 3",
      "language": "python",
      "name": "python3"
    },
    "language_info": {
      "codemirror_mode": {
        "name": "ipython",
        "version": 3
      },
      "file_extension": ".py",
      "mimetype": "text/x-python",
      "name": "python",
      "nbconvert_exporter": "python",
      "pygments_lexer": "ipython3",
      "version": "3.5.1"
    },
    "colab": {
      "name": "Lab MAT668.ipynb",
      "provenance": [],
      "include_colab_link": true
    }
  },
  "cells": [
    {
      "cell_type": "markdown",
      "metadata": {
        "id": "view-in-github",
        "colab_type": "text"
      },
      "source": [
        "<a href=\"https://colab.research.google.com/github/Farhanamf0/MAT668/blob/main/Lab_MAT668.ipynb\" target=\"_parent\"><img src=\"https://colab.research.google.com/assets/colab-badge.svg\" alt=\"Open In Colab\"/></a>"
      ]
    },
    {
      "cell_type": "markdown",
      "metadata": {
        "id": "5iepuIRupPrN"
      },
      "source": [
        "# MAT668\n",
        "## Lab 1"
      ]
    },
    {
      "cell_type": "code",
      "metadata": {
        "id": "sg4ie1rxpPrP",
        "outputId": "12661dec-38a8-4c6a-a8c5-e2ac0eea0c28",
        "colab": {
          "base_uri": "https://localhost:8080/",
          "height": 34
        }
      },
      "source": [
        "%pylab inline"
      ],
      "execution_count": null,
      "outputs": [
        {
          "output_type": "stream",
          "text": [
            "Populating the interactive namespace from numpy and matplotlib\n"
          ],
          "name": "stdout"
        }
      ]
    },
    {
      "cell_type": "markdown",
      "metadata": {
        "id": "vEeA1msOpPrT"
      },
      "source": [
        "### Q1\n",
        "Assign your name to a variable called \"my_name\". <br />\n",
        "Print your name using \"print\" function. <br />\n",
        "https://docs.python.org/3/tutorial/introduction.html#strings."
      ]
    },
    {
      "cell_type": "code",
      "metadata": {
        "id": "AQ27geXWpPrU",
        "colab": {
          "base_uri": "https://localhost:8080/"
        },
        "outputId": "3816253d-feaf-435e-fb4b-f26be3a978cc"
      },
      "source": [
        "my_name = \"NURFARHANA BINTI MOHAMMAD FADZIL\"\n",
        "print(my_name)"
      ],
      "execution_count": 30,
      "outputs": [
        {
          "output_type": "stream",
          "name": "stdout",
          "text": [
            "NURFARHANA BINTI MOHAMMAD FADZIL\n"
          ]
        }
      ]
    },
    {
      "cell_type": "markdown",
      "metadata": {
        "id": "AomUYYZ_pPrW"
      },
      "source": [
        "<hr />"
      ]
    },
    {
      "cell_type": "markdown",
      "metadata": {
        "id": "kMHHvI4MpPrX"
      },
      "source": [
        "### Q2\n",
        "Define a list called \"nodes\" of 10 nodes (0, 1, ..., 9) using \"range\" function.<br />\n",
        "Convert the range into a list using \"list\" function.<br />\n",
        "Print the list of nodes using \"print\" function.\n",
        "\n",
        "https://docs.python.org/3/tutorial/introduction.html#lists <br />\n",
        "https://docs.python.org/3/tutorial/controlflow.html#the-range-function\n",
        "\n"
      ]
    },
    {
      "cell_type": "code",
      "metadata": {
        "id": "lO3ejI21pPrX",
        "colab": {
          "base_uri": "https://localhost:8080/"
        },
        "outputId": "f1b30b1a-2a24-4fd0-9927-f790e76bd5b8"
      },
      "source": [
        "nodes = list(range(10))\n",
        "nodes"
      ],
      "execution_count": 31,
      "outputs": [
        {
          "output_type": "execute_result",
          "data": {
            "text/plain": [
              "[0, 1, 2, 3, 4, 5, 6, 7, 8, 9]"
            ]
          },
          "metadata": {},
          "execution_count": 31
        }
      ]
    },
    {
      "cell_type": "markdown",
      "metadata": {
        "id": "IhQaOSjfpPra"
      },
      "source": [
        "<hr />"
      ]
    },
    {
      "cell_type": "markdown",
      "metadata": {
        "id": "Fq4CzH-GpPra"
      },
      "source": [
        "### Q3\n",
        "Define a list using your student ID named \"studid\".<br >\n",
        "For example, if your student ID is \"2015234031\",<br />\n",
        "your list is [2, 0, 1, 5, 2, 3, 4, 0, 3, 1].<br />\n",
        "Print it using  \"print\" function."
      ]
    },
    {
      "cell_type": "code",
      "metadata": {
        "id": "cJJBqUHapPrb",
        "colab": {
          "base_uri": "https://localhost:8080/"
        },
        "outputId": "84e523f5-569a-435c-b5a6-50cf23d4d33e"
      },
      "source": [
        "studid = [2, 0, 2, 3, 1, 4, 9, 4, 3, 1]\n",
        "print(studid)"
      ],
      "execution_count": 35,
      "outputs": [
        {
          "output_type": "stream",
          "name": "stdout",
          "text": [
            "[2, 0, 2, 3, 1, 4, 9, 4, 3, 1]\n"
          ]
        }
      ]
    },
    {
      "cell_type": "markdown",
      "metadata": {
        "id": "L3cgesB_pPrd"
      },
      "source": [
        "<hr />"
      ]
    },
    {
      "cell_type": "markdown",
      "metadata": {
        "id": "iyLiIstFpPre"
      },
      "source": [
        "### Q4\n",
        "Use \"zip\" function to create a sequence of tuple and called it \"edges\".<br />\n",
        "Each tuple defines an edge between two nodes from the list nodes <br />\n",
        "and the list studid (nodes[i], stud[i]).<br />\n",
        "Then, use \"list\" function  to convert \"edges\" sequence into a list.<br />\n",
        "Print the list of edges using \"print\" function.<br />\n",
        "Example:<br />\n",
        "If nodes = [0, 1, 2, 3, 4, 5, 6, 7, 8, 9] and  studid = [2, 0, 1, 5, 2, 3, 4, 0, 3, 1]<br />\n",
        "then, edges = [(0, 2), (1, 0), (2, 1), (3, 5), (4, 2), (5, 3), (6, 4), (7, 0), (8, 3), (9, 1)]\n",
        "\n",
        "https://docs.python.org/3/tutorial/datastructures.html#nested-list-comprehensions"
      ]
    },
    {
      "cell_type": "code",
      "metadata": {
        "id": "kCQyKJKnpPrf",
        "colab": {
          "base_uri": "https://localhost:8080/"
        },
        "outputId": "c33dda9a-efab-404f-a8b9-5b4958ef65fd"
      },
      "source": [
        "print(nodes)\n",
        "print(studid)\n",
        "edges = zip(nodes, studid)\n",
        "edges = list(edges)\n",
        "print(edges)"
      ],
      "execution_count": 52,
      "outputs": [
        {
          "output_type": "stream",
          "name": "stdout",
          "text": [
            "[0, 1, 2, 3, 4, 5, 6, 7, 8, 9]\n",
            "[2, 0, 2, 3, 1, 4, 9, 4, 3, 1]\n",
            "[(0, 2), (1, 0), (2, 2), (3, 3), (4, 1), (5, 4), (6, 9), (7, 4), (8, 3), (9, 1)]\n"
          ]
        }
      ]
    },
    {
      "cell_type": "markdown",
      "metadata": {
        "id": "gmJzPcAhpPrh"
      },
      "source": [
        "<hr />"
      ]
    },
    {
      "cell_type": "markdown",
      "metadata": {
        "id": "1Ac7kBuTpPrh"
      },
      "source": [
        "### Q5\n",
        "Import networkx module as nx.\n",
        "\n",
        "Then, create an empty graph G with no nodes and no edges.\n",
        "\n",
        "https://networkx.github.io/documentation/stable/tutorial.html#creating-a-graph\n"
      ]
    },
    {
      "cell_type": "code",
      "metadata": {
        "id": "XkaBiYPJpPri"
      },
      "source": [
        "import networkx as nx\n",
        "G = nx.Graph()"
      ],
      "execution_count": 57,
      "outputs": []
    },
    {
      "cell_type": "markdown",
      "metadata": {
        "id": "Xr6cAfj_pPrk"
      },
      "source": [
        "<hr />"
      ]
    },
    {
      "cell_type": "markdown",
      "metadata": {
        "id": "rMYBtFj0pPrl"
      },
      "source": [
        "### Q6\n",
        "Add \"edges\" to G using \"add_edges_from\" function.\n",
        "\n",
        "https://networkx.github.io/documentation/stable/tutorial.html#edges"
      ]
    },
    {
      "cell_type": "code",
      "metadata": {
        "id": "D5KhwXUkpPrm",
        "colab": {
          "base_uri": "https://localhost:8080/"
        },
        "outputId": "192e6ad9-55ac-4901-d641-47c987a70418"
      },
      "source": [
        "G.add_edge(1, 2)\n",
        "e = (2, 3)\n",
        "G.add_edge(*e)\n",
        "G.add_edges_from([(1, 2), (1, 3)])\n",
        "print(G.edges())"
      ],
      "execution_count": 58,
      "outputs": [
        {
          "output_type": "stream",
          "name": "stdout",
          "text": [
            "[(1, 2), (1, 3), (2, 3)]\n"
          ]
        }
      ]
    },
    {
      "cell_type": "markdown",
      "metadata": {
        "id": "jGMLq-NkpPro"
      },
      "source": [
        "<hr />"
      ]
    },
    {
      "cell_type": "markdown",
      "metadata": {
        "id": "TMAP5tNppPrp"
      },
      "source": [
        "### Q7\n",
        "Print all nodes using \"list\" and print\" function.\n",
        "\n",
        "https://networkx.github.io/documentation/stable/tutorial.html#edges"
      ]
    },
    {
      "cell_type": "code",
      "metadata": {
        "id": "irvqMbyhpPrp",
        "colab": {
          "base_uri": "https://localhost:8080/"
        },
        "outputId": "8d12d149-9ff7-4ca2-ac90-60c8276ad9bd"
      },
      "source": [
        "print(list(G.nodes()))"
      ],
      "execution_count": 59,
      "outputs": [
        {
          "output_type": "stream",
          "name": "stdout",
          "text": [
            "[1, 2, 3]\n"
          ]
        }
      ]
    },
    {
      "cell_type": "markdown",
      "metadata": {
        "id": "_DOMJO-zpPrr"
      },
      "source": [
        "<hr />"
      ]
    },
    {
      "cell_type": "markdown",
      "metadata": {
        "id": "zTZd2f0JpPrs"
      },
      "source": [
        "### Q8\n",
        "Print all edges using \"list\" and print\" function.\n",
        "\n",
        "https://networkx.github.io/documentation/stable/tutorial.html#edges"
      ]
    },
    {
      "cell_type": "code",
      "metadata": {
        "id": "YDacB8IopPrt",
        "colab": {
          "base_uri": "https://localhost:8080/"
        },
        "outputId": "cae61a5a-1929-426c-e922-78541cf8ddff"
      },
      "source": [
        "print(list(G.edges()))"
      ],
      "execution_count": 62,
      "outputs": [
        {
          "output_type": "stream",
          "name": "stdout",
          "text": [
            "[(1, 2), (1, 3), (2, 3)]\n"
          ]
        }
      ]
    },
    {
      "cell_type": "markdown",
      "metadata": {
        "id": "mRG0TKy3pPrv"
      },
      "source": [
        "<hr />"
      ]
    },
    {
      "cell_type": "markdown",
      "metadata": {
        "id": "7SdOBQkgpPrx"
      },
      "source": [
        "### Q9\n",
        "Print the number of nodes using <br />\"number_of_nodes\" functon, and <br />\n",
        "\"print\" function.\n",
        "\n",
        "https://networkx.github.io/documentation/stable/tutorial.html#edges"
      ]
    },
    {
      "cell_type": "code",
      "metadata": {
        "id": "1YAgQvZPpPry",
        "colab": {
          "base_uri": "https://localhost:8080/"
        },
        "outputId": "8376af13-d0ed-41ac-c70b-85047aa3e96a"
      },
      "source": [
        "print(G.number_of_nodes())"
      ],
      "execution_count": 61,
      "outputs": [
        {
          "output_type": "stream",
          "name": "stdout",
          "text": [
            "3\n"
          ]
        }
      ]
    },
    {
      "cell_type": "markdown",
      "metadata": {
        "id": "u3XDz_7ppPr0"
      },
      "source": [
        "<hr />"
      ]
    },
    {
      "cell_type": "markdown",
      "metadata": {
        "id": "mnPJ2DzYpPr1"
      },
      "source": [
        "### Q10\n",
        "Print the number of edges using <br />\"number_of_edges\" function , and<br /> \"print\" function."
      ]
    },
    {
      "cell_type": "code",
      "metadata": {
        "id": "HaIB1lp_pPr2",
        "colab": {
          "base_uri": "https://localhost:8080/"
        },
        "outputId": "a05aa5de-3224-4125-af9e-2e2958d8f3d4"
      },
      "source": [
        "print(G.number_of_edges())"
      ],
      "execution_count": 63,
      "outputs": [
        {
          "output_type": "stream",
          "name": "stdout",
          "text": [
            "3\n"
          ]
        }
      ]
    },
    {
      "cell_type": "markdown",
      "metadata": {
        "id": "Zp4SBR4BpPr4"
      },
      "source": [
        "<hr />"
      ]
    },
    {
      "cell_type": "markdown",
      "metadata": {
        "collapsed": false,
        "id": "XWqTWYhmpPr5"
      },
      "source": [
        "### Q11\n",
        "Print the list of nodes adjacent to node 2 (neighbour of node 2)<br />\n",
        "using \"neighbors\" function<br />\n",
        "and \"print\" function.\n",
        "\n",
        "https://networkx.github.io/documentation/stable/tutorial.html#edges"
      ]
    },
    {
      "cell_type": "code",
      "metadata": {
        "id": "_RT6kP3EpPr6",
        "colab": {
          "base_uri": "https://localhost:8080/"
        },
        "outputId": "2ef80e48-88e0-4416-9328-aa00192a8ded"
      },
      "source": [
        "print(list(G.neighbors(2)))"
      ],
      "execution_count": 64,
      "outputs": [
        {
          "output_type": "stream",
          "name": "stdout",
          "text": [
            "[1, 3]\n"
          ]
        }
      ]
    },
    {
      "cell_type": "markdown",
      "metadata": {
        "id": "qKo7PEHRpPr9"
      },
      "source": [
        "<hr />"
      ]
    },
    {
      "cell_type": "markdown",
      "metadata": {
        "id": "d6ARhDbCpPr9"
      },
      "source": [
        "### Q12\n",
        "Print all the nodes and a list of their respective neighbours side by side using<br />\n",
        "\"for loop\", <br />\n",
        "\"nodes\" function, <br />\n",
        "\"neighbors\" function, and <br />\n",
        "\"print\" function.\n",
        "\n",
        "Example:<br />\n",
        "0 [1, 2, 7]<br />\n",
        "1 [0, 9, 2]<br />\n",
        "2 [0, 1, 4]<br />\n",
        "3 [8, 5]<br />\n",
        "4 [2, 6]<br />\n",
        "5 [3]<br />\n",
        "6 [4]<br />\n",
        "7 [0]<br />\n",
        "8 [3]<br />\n",
        "9 [1]\n",
        "\n",
        "https://docs.python.org/3/tutorial/controlflow.html#for-statements <br />\n",
        "https://networkx.github.io/documentation/stable/tutorial.html#edges"
      ]
    },
    {
      "cell_type": "code",
      "metadata": {
        "id": "P0t7CHOdpPr-",
        "colab": {
          "base_uri": "https://localhost:8080/"
        },
        "outputId": "af0ee9db-78eb-4cb5-feae-2f78541733ff"
      },
      "source": [
        "G = nx.Graph()\n",
        "G.add_edges_from(edges)\n",
        "\n",
        "for node in G.nodes():\n",
        "  print(node, list(G.neighbors(node)))"
      ],
      "execution_count": 72,
      "outputs": [
        {
          "output_type": "stream",
          "name": "stdout",
          "text": [
            "0 [2, 1, 7]\n",
            "2 [0, 1, 4]\n",
            "1 [0, 2, 9]\n",
            "3 [5, 8]\n",
            "5 [3]\n",
            "4 [2, 6]\n",
            "6 [4]\n",
            "7 [0]\n",
            "8 [3]\n",
            "9 [1]\n"
          ]
        }
      ]
    },
    {
      "cell_type": "markdown",
      "metadata": {
        "id": "-n1lg81NpPsB"
      },
      "source": [
        "<hr />"
      ]
    },
    {
      "cell_type": "markdown",
      "metadata": {
        "id": "9Ffba_iYpPsC"
      },
      "source": [
        "### Q13\n",
        "Print the degree for node 2 using the \"degree\" function , and <br />\n",
        "\"print\" function.<br />\n",
        "Please ignore parameter \"weight\".\n",
        "\n",
        "https://networkx.github.io/documentation/stable/tutorial.html#edges"
      ]
    },
    {
      "cell_type": "code",
      "metadata": {
        "id": "1e6QqN7VpPsD",
        "colab": {
          "base_uri": "https://localhost:8080/"
        },
        "outputId": "4433637b-5ef1-4350-9a4c-75edd7fe4890"
      },
      "source": [
        "new_var = print(G.degree(2))\n",
        "print(new_var)"
      ],
      "execution_count": 92,
      "outputs": [
        {
          "output_type": "stream",
          "name": "stdout",
          "text": [
            "3\n",
            "None\n"
          ]
        }
      ]
    },
    {
      "cell_type": "markdown",
      "metadata": {
        "id": "h9dAJ9lqpPsI"
      },
      "source": [
        "<hr />"
      ]
    },
    {
      "cell_type": "markdown",
      "metadata": {
        "id": "RTMnFYAwpPsJ"
      },
      "source": [
        "### Q14\n",
        "Print all the nodes and their respective degree side by side using<br />\n",
        "\"for loop\", <br />\n",
        "\"nodes\" function, <br />\n",
        "\"degree\" function, and <br />\n",
        "\"print\" function.\n",
        "\n",
        "Example:<br />\n",
        "0 3<br />\n",
        "1 3<br />\n",
        "2 3<br />\n",
        "3 2<br />\n",
        "4 2<br />\n",
        "5 1<br />\n",
        "6 1<br />\n",
        "7 1<br />\n",
        "8 1<br />\n",
        "9 1\n",
        "\n",
        "https://docs.python.org/3/tutorial/controlflow.html#for-statements <br />\n",
        "https://networkx.github.io/documentation/stable/tutorial.html#edges<br />\n"
      ]
    },
    {
      "cell_type": "markdown",
      "metadata": {
        "id": "2UNrj3-OpPsK"
      },
      "source": [
        "<hr />"
      ]
    },
    {
      "cell_type": "code",
      "metadata": {
        "id": "0tcQ-x9rpPsL",
        "colab": {
          "base_uri": "https://localhost:8080/"
        },
        "outputId": "371cb4d3-f567-4d00-f75e-71705f678e81"
      },
      "source": [
        "import networkx as nx\n",
        "\n",
        "G = nx.Graph()\n",
        "edges = [(0, 2), (1, 0), (2, 1), (3, 5), (4, 2), (5, 3), (6, 4), (7, 0), (8, 3), (9, 1)]\n",
        "G.add_edges_from(edges)\n",
        "\n",
        "for node in G.nodes():\n",
        "  print(node, G.degree(node))"
      ],
      "execution_count": 93,
      "outputs": [
        {
          "output_type": "stream",
          "name": "stdout",
          "text": [
            "0 3\n",
            "2 3\n",
            "1 3\n",
            "3 2\n",
            "5 1\n",
            "4 2\n",
            "6 1\n",
            "7 1\n",
            "8 1\n",
            "9 1\n"
          ]
        }
      ]
    },
    {
      "cell_type": "markdown",
      "metadata": {
        "id": "As3KK7fEpPsN"
      },
      "source": [
        "<hr />"
      ]
    },
    {
      "cell_type": "markdown",
      "metadata": {
        "id": "bH_cCMGvpPsO"
      },
      "source": [
        "### Q15\n",
        "\"G.degree()\" is of type dict. <br />\n",
        "\"G.degree().keys()\" will return all the nodes.<br />\n",
        "\"G.degree().values()\" will return all the degrees.<br />\n",
        "\n",
        "Create a degree sequence in descending order using<br />\n",
        "\"G.degree().values()\" function and \"list\" function<br />\n",
        "and assign it to variable called \"degree_sequence\"\n",
        "\n",
        "Print \"degree_sequence\" using \"print\" function.\n",
        "\n",
        "Note:\n",
        "\n",
        "Example: <br />\n",
        "[3, 3, 3, 2, 2, 1, 1, 1, 1, 1]\n",
        "\n",
        "https://docs.python.org/3/tutorial/introduction.html#lists <br />\n",
        "https://docs.python.org/3/tutorial/datastructures.html#dictionaries"
      ]
    },
    {
      "cell_type": "code",
      "metadata": {
        "id": "6LIJfvi_pPsP",
        "colab": {
          "base_uri": "https://localhost:8080/"
        },
        "outputId": "16f6bb4c-63b6-450f-ddc4-113726b458d9"
      },
      "source": [
        "degree_sequence = sorted([degree for node, degree in G.degree()], reverse = True)\n",
        "print(degree_sequence)"
      ],
      "execution_count": 94,
      "outputs": [
        {
          "output_type": "stream",
          "name": "stdout",
          "text": [
            "[3, 3, 3, 2, 2, 1, 1, 1, 1, 1]\n"
          ]
        }
      ]
    },
    {
      "cell_type": "markdown",
      "metadata": {
        "id": "0dRAhb9SpPsS"
      },
      "source": [
        "<hr />"
      ]
    },
    {
      "cell_type": "markdown",
      "metadata": {
        "id": "hQ42I9CnpPsT"
      },
      "source": [
        "### Q16\n",
        "Find the maximum vertex degree $\\Delta$ by applying<br />\n",
        "\"max\" function to the list \"degree_sequence\" <br />\n",
        "and assign it to variable \"max_degree\".\n",
        "\n",
        "Print variable \"max_degree\" using \"print\" function."
      ]
    },
    {
      "cell_type": "code",
      "metadata": {
        "id": "5dZszNKspPsU",
        "colab": {
          "base_uri": "https://localhost:8080/"
        },
        "outputId": "3b0a87c2-8364-4da3-ec18-154bf883cc73"
      },
      "source": [
        "max_degree = max(degree_sequence)\n",
        "print(max_degree)"
      ],
      "execution_count": 95,
      "outputs": [
        {
          "output_type": "stream",
          "name": "stdout",
          "text": [
            "3\n"
          ]
        }
      ]
    },
    {
      "cell_type": "markdown",
      "metadata": {
        "id": "i0AoM5UppPsW"
      },
      "source": [
        "<hr />"
      ]
    },
    {
      "cell_type": "markdown",
      "metadata": {
        "id": "gojNOhlfpPsX"
      },
      "source": [
        "### Q17\n",
        "Find the minimum vertex degree $\\delta$ by applying<br />\n",
        "\"min\" function to the list \"degree_sequence\"<br />\n",
        "and assign it to variable \"min_degree\".\n",
        "\n",
        "Print variable \"min_degree\" using \"print\" function."
      ]
    },
    {
      "cell_type": "code",
      "metadata": {
        "id": "rcxLGrhLpPsY",
        "colab": {
          "base_uri": "https://localhost:8080/"
        },
        "outputId": "997fb181-7a45-463f-aa17-f3aa33a57496"
      },
      "source": [
        "min_degree = min(degree_sequence)\n",
        "print(min_degree)"
      ],
      "execution_count": 96,
      "outputs": [
        {
          "output_type": "stream",
          "name": "stdout",
          "text": [
            "1\n"
          ]
        }
      ]
    },
    {
      "cell_type": "markdown",
      "metadata": {
        "id": "1x-5SS7apPsa"
      },
      "source": [
        "<hr />"
      ]
    },
    {
      "cell_type": "markdown",
      "metadata": {
        "id": "B5OhvbB4pPsb"
      },
      "source": [
        "### Q18\n",
        "Calculate the sum of degree of all nodes<br />\n",
        "\n",
        "\"sum\" function to calculate the sum of all degree, and <br />\n",
        "assign it to a variable called \"sum_degree\".\n",
        "\n",
        "Print \"sum_degree\" using \"print\" function.\n",
        "\n",
        "Example:<br />\n",
        "Sum of degree of all nodes = 18<br />"
      ]
    },
    {
      "cell_type": "code",
      "metadata": {
        "id": "SMqMHFpRpPsc",
        "colab": {
          "base_uri": "https://localhost:8080/"
        },
        "outputId": "011ad732-ff20-4952-8d6e-613f99a5ba66"
      },
      "source": [
        "sum_degree = sum(degree_sequence)\n",
        "print(sum_degree)"
      ],
      "execution_count": 97,
      "outputs": [
        {
          "output_type": "stream",
          "name": "stdout",
          "text": [
            "18\n"
          ]
        }
      ]
    },
    {
      "cell_type": "markdown",
      "metadata": {
        "id": "jXKgY8EypPse"
      },
      "source": [
        "<hr />"
      ]
    },
    {
      "cell_type": "markdown",
      "metadata": {
        "id": "pUZUnwnGpPsf"
      },
      "source": [
        "### Q19\n",
        "Calculate the value of 2 times the total number of edges using <br />\n",
        "\"number_of_edges\" function, and<br />\n",
        "assign it to a variable called \"edges_times2\".\n",
        "\n",
        "Print \"edges_times2\" using \"print\" function.\n",
        "\n",
        "Example:<br />\n",
        "edges_times2 = 2 x number_of_edges =  18\n",
        "\n",
        "https://networkx.github.io/documentation/stable/tutorial.html#edges"
      ]
    },
    {
      "cell_type": "code",
      "metadata": {
        "id": "bWcQBp1vpPsh",
        "colab": {
          "base_uri": "https://localhost:8080/"
        },
        "outputId": "5aee13b3-a3db-4559-94db-c4d82db280f2"
      },
      "source": [
        "edges_times2 = 2 * G.number_of_edges()\n",
        "print(edges_times2)"
      ],
      "execution_count": 98,
      "outputs": [
        {
          "output_type": "stream",
          "name": "stdout",
          "text": [
            "18\n"
          ]
        }
      ]
    },
    {
      "cell_type": "markdown",
      "metadata": {
        "id": "AcUawahHpPsm"
      },
      "source": [
        "<hr />"
      ]
    },
    {
      "cell_type": "markdown",
      "metadata": {
        "id": "hWPq9PGVpPsn"
      },
      "source": [
        "### Q20\n",
        "Verify Handshaking Lemma (The degree sum formula).<br />\n",
        "$\\sum_{v \\in V} deg(v) = 2|E|$\n",
        "\n",
        "Hint: <br />\n",
        "Is sum_degree = edges_times2? <br />\n",
        "Print the value using \"print\" function."
      ]
    },
    {
      "cell_type": "code",
      "metadata": {
        "id": "IO09VxRApPso",
        "colab": {
          "base_uri": "https://localhost:8080/"
        },
        "outputId": "40884c3a-392d-4c5f-9b54-cecb45cec3d9"
      },
      "source": [
        "print(sum_degree == edges_times2)"
      ],
      "execution_count": 99,
      "outputs": [
        {
          "output_type": "stream",
          "name": "stdout",
          "text": [
            "True\n"
          ]
        }
      ]
    },
    {
      "cell_type": "markdown",
      "metadata": {
        "id": "NTUTs1KwpPsq"
      },
      "source": [
        "<hr />"
      ]
    },
    {
      "cell_type": "markdown",
      "metadata": {
        "id": "_WMaZHMOpPsr"
      },
      "source": [
        "### Q21\n",
        "Draw the graph G using \"draw\" function. Add \"with_labels=True\" argument to \"draw\" function to display the node's label."
      ]
    },
    {
      "cell_type": "code",
      "metadata": {
        "id": "4UbZ1LThpPss",
        "colab": {
          "base_uri": "https://localhost:8080/",
          "height": 533
        },
        "outputId": "9bfed265-4a8b-4937-dfeb-7f18b8cf3d1a"
      },
      "source": [
        "import matplotlib.pyplot as plt\n",
        "import networkx as nx\n",
        "%pylab inline\n",
        "\n",
        "G = nx.Graph()\n",
        "edges = [(0, 2), (1, 0), (2, 1), (3, 5), (4, 2), (5, 3), (6, 4), (7, 0), (8, 3), (9, 1)]\n",
        "G.add_edges_from(edges)\n",
        "\n",
        "nx.draw(G, with_labels=True)\n",
        "plt.show()"
      ],
      "execution_count": 100,
      "outputs": [
        {
          "output_type": "stream",
          "name": "stdout",
          "text": [
            "Populating the interactive namespace from numpy and matplotlib\n"
          ]
        },
        {
          "output_type": "display_data",
          "data": {
            "text/plain": [
              "<Figure size 640x480 with 1 Axes>"
            ],
            "image/png": "[encoded data removed]"
          },
          "metadata": {}
        }
      ]
    }
  ]
}